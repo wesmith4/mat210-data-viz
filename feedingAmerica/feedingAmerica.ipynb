{
  "nbformat": 4,
  "nbformat_minor": 5,
  "metadata": {
    "colab": {
      "name": "feedingAmerica.ipynb",
      "provenance": [],
      "include_colab_link": true
    },
    "kernelspec": {
      "display_name": "Python 3",
      "language": "python",
      "name": "python3"
    },
    "language_info": {
      "codemirror_mode": {
        "name": "ipython",
        "version": 3
      },
      "file_extension": ".py",
      "mimetype": "text/x-python",
      "name": "python",
      "nbconvert_exporter": "python",
      "pygments_lexer": "ipython3",
      "version": "3.7.9"
    }
  },
  "cells": [
    {
      "cell_type": "markdown",
      "metadata": {
        "id": "view-in-github",
        "colab_type": "text"
      },
      "source": [
        "<a href=\"https://colab.research.google.com/github/wesmith4/mat210-data-viz/blob/master/feedingAmerica/feedingAmerica.ipynb\" target=\"_parent\"><img src=\"https://colab.research.google.com/assets/colab-badge.svg\" alt=\"Open In Colab\"/></a>"
      ]
    },
    {
      "cell_type": "code",
      "metadata": {
        "id": "aggressive-conjunction"
      },
      "source": [
        "import pandas as pd\n",
        "import numpy as np\n",
        "from matplotlib import pyplot as plt"
      ],
      "id": "aggressive-conjunction",
      "execution_count": 118,
      "outputs": []
    },
    {
      "cell_type": "markdown",
      "metadata": {
        "id": "sharing-leeds"
      },
      "source": [
        "# Import and Clean data\n",
        "The data from [Feeding America](https://www.feedingamerica.org/) is living in CSV files in the `/data` directory. The code block below imports that data, cleans it for our use, and combines it into the `allData.csv` file."
      ],
      "id": "sharing-leeds"
    },
    {
      "cell_type": "code",
      "metadata": {
        "colab": {
          "base_uri": "https://localhost:8080/"
        },
        "id": "imported-terminology",
        "outputId": "e158563b-569d-4ba8-b6a0-813571a7cdef"
      },
      "source": [
        "# Import data from CSV files if running locally, or from GitHub if running on Google Colab\n",
        "\n",
        "importDirect = True\n",
        "if 'google.colab' in str(get_ipython()):\n",
        "    importDirect = False\n",
        "    print('Running on Google Colab --- importing files straight from GitHub')\n",
        "\n",
        "if importDirect:\n",
        "    print('Running on direct --- importing files from file directory')\n",
        "    data_frames = {}\n",
        "    for year in range(2010, 2018):\n",
        "        data_frames[year] = pd.read_csv('data/{}Data.csv'.format(year))\n",
        "        data_frames[year]['Year'] = year\n",
        "\n",
        "    data_frames[2018] = pd.read_csv('data/2018Data.csv',header=1)\n",
        "    data_frames[2018]['Year'] = 2018\n",
        "\n",
        "\n",
        "    # Create list of preferred column names\n",
        "    col_names = ['FIPS', 'State', 'Food Insecurity Rate', '# Food Insecure Persons', 'Low Threshold in state', 'Low Threshold Type', 'High Threshold in state', 'High Threshold Type', '% FI <= Low Threshold', '% FI Btwn Thresholds', '$ FI > High Threshold', 'Child food insecurity rate', '# Food Insecure Children', '% food insecure children in HH w/ HH incomes below 185 FPL', '% food insecure children in HH w/ HH incomes above 185 FPL', 'Cost Per Meal', 'Weighted Annual Food Budget Shortfall', 'Year', 'County']\n",
        "\n",
        "    # Clean data\n",
        "    for key in data_frames:\n",
        "        df = data_frames[key]\n",
        "        df[['County', 'Long State']] = df['County, State'].str.split(',',expand=True)\n",
        "        df = df.drop(['County, State', 'Long State'],axis=1)\n",
        "        df.columns = col_names # rename columns\n",
        "        data_frames[key] = df\n",
        "\n",
        "    # Concatenate all datarames into one\n",
        "    frames = [data_frames[key] for key in data_frames]\n",
        "\n",
        "    df = pd.concat(frames)\n",
        "    df.to_csv('allData.csv') # export into CSV file\n",
        "    projections2020 = pd.read_csv('data/2020Projections.csv')\n",
        "else:\n",
        "    url = 'https://raw.githubusercontent.com/wesmith4/mat210-data-viz/master/feedingAmerica/allData.csv'\n",
        "    df = pd.read_csv(url, index_col = 0)\n",
        "    projections2020 = pd.read_csv('https://raw.githubusercontent.com/wesmith4/mat210-data-viz/master/feedingAmerica/data/2020Projections.csv')"
      ],
      "id": "imported-terminology",
      "execution_count": 119,
      "outputs": [
        {
          "output_type": "stream",
          "text": [
            "Running on Google Colab --- importing files straight from GitHub\n"
          ],
          "name": "stdout"
        }
      ]
    },
    {
      "cell_type": "code",
      "metadata": {
        "id": "grateful-platform"
      },
      "source": [
        "forReplacement = ['Food Insecurity Rate', 'Child food insecurity rate', 'Low Threshold in state', 'High Threshold in state', '% food insecure children in HH w/ HH incomes below 185 FPL', '% food insecure children in HH w/ HH incomes above 185 FPL']\n",
        "for field in forReplacement:\n",
        "    df[field] = df[field].str.replace('%', '').replace('-*', 'NaN')\n",
        "\n",
        "df = df.astype({'Food Insecurity Rate': float, 'Child food insecurity rate': float})"
      ],
      "id": "grateful-platform",
      "execution_count": 120,
      "outputs": []
    },
    {
      "cell_type": "code",
      "metadata": {
        "id": "fitted-newcastle",
        "colab": {
          "base_uri": "https://localhost:8080/",
          "height": 265
        },
        "outputId": "52d67b28-08a4-408e-dcf9-d1e16a60ced8"
      },
      "source": [
        "fig, ax = plt.subplots()\n",
        "ax.scatter(df.Year,df['Child food insecurity rate'])\n",
        "plt.show()"
      ],
      "id": "fitted-newcastle",
      "execution_count": 121,
      "outputs": [
        {
          "output_type": "display_data",
          "data": {
            "image/png": "[encoded data removed]",
            "text/plain": [
              "<Figure size 432x288 with 1 Axes>"
            ]
          },
          "metadata": {
            "tags": [],
            "needs_background": "light"
          }
        }
      ]
    },
    {
      "cell_type": "code",
      "metadata": {
        "id": "second-nudist"
      },
      "source": [
        "national_aggregates = df.groupby(['Year'])['Child food insecurity rate'].mean().to_frame()\n",
        "NC_aggregates = df[df['State'] == 'NC'].groupby(['Year'])['Child food insecurity rate'].mean().to_frame()\n",
        "NewHanCty_aggregates = df[df['County'] == \"New Hanover County\"].groupby('Year')['Child food insecurity rate'].mean().to_frame()"
      ],
      "id": "second-nudist",
      "execution_count": 122,
      "outputs": []
    },
    {
      "cell_type": "code",
      "metadata": {
        "id": "q3D-orvNRdQy"
      },
      "source": [
        "projections2020['Year'] = 2020\n",
        "projections2020 = projections2020.rename(columns={'[Revised Projections – Oct 2020] \\n2020 Child Food Insecurity  %':'Child food insecurity rate'})\n",
        "NCProjections2020 = projections2020[projections2020['State'] == 'NC'].groupby(['Year'])['Child food insecurity rate'].mean().to_frame()\n",
        "NewHanCtyProjections2020 = projections2020[projections2020['County, State'].str.contains('New Hanover')].groupby('Year')['Child food insecurity rate'].mean().to_frame()\n",
        "NationalProjections2020 = projections2020.groupby('Year')['Child food insecurity rate'].mean().to_frame()\n",
        "\n",
        "NC_aggregates = NC_aggregates.append(NCProjections2020*100)\n",
        "NewHanCty_aggregates = NewHanCty_aggregates.append(NewHanCtyProjections2020*100)\n",
        "national_aggregates = national_aggregates.append(NationalProjections2020*100)"
      ],
      "id": "q3D-orvNRdQy",
      "execution_count": 125,
      "outputs": []
    },
    {
      "cell_type": "code",
      "metadata": {
        "id": "jLcCHDBcawOE",
        "outputId": "04547ca0-33ad-4627-f539-2409e8b13102",
        "colab": {
          "base_uri": "https://localhost:8080/",
          "height": 282
        }
      },
      "source": [
        "plt.plot(NewHanCty_aggregates, 'r')\n",
        "plt.plot(NC_aggregates, 'b')\n",
        "plt.plot(national_aggregates, 'g')"
      ],
      "id": "jLcCHDBcawOE",
      "execution_count": 129,
      "outputs": [
        {
          "output_type": "execute_result",
          "data": {
            "text/plain": [
              "[<matplotlib.lines.Line2D at 0x7fa564722ad0>]"
            ]
          },
          "metadata": {
            "tags": []
          },
          "execution_count": 129
        },
        {
          "output_type": "display_data",
          "data": {
            "image/png": "[encoded data removed]",
            "text/plain": [
              "<Figure size 432x288 with 1 Axes>"
            ]
          },
          "metadata": {
            "tags": [],
            "needs_background": "light"
          }
        }
      ]
    },
    {
      "cell_type": "code",
      "metadata": {
        "id": "PP2hVpX3b_7D"
      },
      "source": [
        ""
      ],
      "id": "PP2hVpX3b_7D",
      "execution_count": 124,
      "outputs": []
    }
  ]
}