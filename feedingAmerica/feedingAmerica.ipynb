{
 "cells": [
  {
   "cell_type": "code",
   "execution_count": 1,
   "id": "stylish-background",
   "metadata": {},
   "outputs": [],
   "source": [
    "import pandas as pd\n",
    "import numpy as np"
   ]
  },
  {
   "cell_type": "code",
   "execution_count": 9,
   "id": "going-diamond",
   "metadata": {},
   "outputs": [],
   "source": [
    "# Import 2018 data\n",
    "df = pd.read_csv('data/2018Data.csv',header=1)\n",
    "df.head()\n",
    "df['Year'] = 2018"
   ]
  },
  {
   "cell_type": "code",
   "execution_count": 10,
   "id": "following-grounds",
   "metadata": {},
   "outputs": [
    {
     "data": {
      "text/html": [
       "<div>\n",
       "<style scoped>\n",
       "    .dataframe tbody tr th:only-of-type {\n",
       "        vertical-align: middle;\n",
       "    }\n",
       "\n",
       "    .dataframe tbody tr th {\n",
       "        vertical-align: top;\n",
       "    }\n",
       "\n",
       "    .dataframe thead th {\n",
       "        text-align: right;\n",
       "    }\n",
       "</style>\n",
       "<table border=\"1\" class=\"dataframe\">\n",
       "  <thead>\n",
       "    <tr style=\"text-align: right;\">\n",
       "      <th></th>\n",
       "      <th>FIPS</th>\n",
       "      <th>State</th>\n",
       "      <th>County, State</th>\n",
       "      <th>2018 Food Insecurity Rate</th>\n",
       "      <th># of Food Insecure Persons in 2018</th>\n",
       "      <th>Low Threshold in state</th>\n",
       "      <th>Low Threshold Type</th>\n",
       "      <th>High Threshold in state</th>\n",
       "      <th>High Threshold Type</th>\n",
       "      <th>% FI ≤ Low Threshold</th>\n",
       "      <th>% FI Btwn Thresholds</th>\n",
       "      <th>% FI &gt; High Threshold</th>\n",
       "      <th>2018 Child food insecurity rate</th>\n",
       "      <th># of Food Insecure Children in 2018</th>\n",
       "      <th>% food insecure children in HH w/ HH incomes below 185 FPL in 2018</th>\n",
       "      <th>% food insecure children in HH w/ HH incomes above 185 FPL in 2018</th>\n",
       "      <th>2018 Cost Per Meal</th>\n",
       "      <th>2018 Weighted Annual Food Budget Shortfall</th>\n",
       "      <th>Year</th>\n",
       "    </tr>\n",
       "  </thead>\n",
       "  <tbody>\n",
       "    <tr>\n",
       "      <th>1954</th>\n",
       "      <td>37129</td>\n",
       "      <td>NC</td>\n",
       "      <td>New Hanover County, North Carolina</td>\n",
       "      <td>14.1%</td>\n",
       "      <td>31,560</td>\n",
       "      <td>200%</td>\n",
       "      <td>SNAP, Other Nutrition Programs</td>\n",
       "      <td>200%</td>\n",
       "      <td>SNAP, Other Nutrition Programs</td>\n",
       "      <td>68.7%</td>\n",
       "      <td>NaN</td>\n",
       "      <td>31.3%</td>\n",
       "      <td>18.7%</td>\n",
       "      <td>7,940</td>\n",
       "      <td>70%</td>\n",
       "      <td>30%</td>\n",
       "      <td>$3.30</td>\n",
       "      <td>$17,638,000.00</td>\n",
       "      <td>2018</td>\n",
       "    </tr>\n",
       "  </tbody>\n",
       "</table>\n",
       "</div>"
      ],
      "text/plain": [
       "       FIPS State                       County, State  \\\n",
       "1954  37129    NC  New Hanover County, North Carolina   \n",
       "\n",
       "     2018 Food Insecurity Rate # of Food Insecure Persons in 2018  \\\n",
       "1954                     14.1%                            31,560    \n",
       "\n",
       "     Low Threshold in state              Low Threshold Type  \\\n",
       "1954                   200%  SNAP, Other Nutrition Programs   \n",
       "\n",
       "     High Threshold in state             High Threshold Type  \\\n",
       "1954                    200%  SNAP, Other Nutrition Programs   \n",
       "\n",
       "     % FI ≤ Low Threshold % FI Btwn Thresholds % FI > High Threshold  \\\n",
       "1954                68.7%                  NaN                 31.3%   \n",
       "\n",
       "     2018 Child food insecurity rate # of Food Insecure Children in 2018  \\\n",
       "1954                           18.7%                              7,940    \n",
       "\n",
       "     % food insecure children in HH w/ HH incomes below 185 FPL in 2018  \\\n",
       "1954                                                70%                   \n",
       "\n",
       "     % food insecure children in HH w/ HH incomes above 185 FPL in 2018  \\\n",
       "1954                                                30%                   \n",
       "\n",
       "     2018 Cost Per Meal 2018 Weighted Annual Food Budget Shortfall  Year  \n",
       "1954              $3.30                             $17,638,000.00  2018  "
      ]
     },
     "execution_count": 10,
     "metadata": {},
     "output_type": "execute_result"
    }
   ],
   "source": [
    "northCarolina = df[df['State'] == 'NC']\n",
    "newHanoverCounty = northCarolina[northCarolina['County, State'] == 'New Hanover County, North Carolina']\n",
    "newHanoverCounty"
   ]
  },
  {
   "cell_type": "code",
   "execution_count": 11,
   "id": "miniature-mainland",
   "metadata": {},
   "outputs": [
    {
     "name": "stdout",
     "output_type": "stream",
     "text": [
      "<class 'pandas.core.frame.DataFrame'>\n",
      "RangeIndex: 3142 entries, 0 to 3141\n",
      "Data columns (total 19 columns):\n",
      " #   Column                                                              Non-Null Count  Dtype \n",
      "---  ------                                                              --------------  ----- \n",
      " 0   FIPS                                                                3142 non-null   int64 \n",
      " 1   State                                                               3142 non-null   object\n",
      " 2   County, State                                                       3142 non-null   object\n",
      " 3   2018 Food Insecurity Rate                                           3142 non-null   object\n",
      " 4   # of Food Insecure Persons in 2018                                  3142 non-null   object\n",
      " 5   Low Threshold in state                                              3142 non-null   object\n",
      " 6   Low Threshold Type                                                  3142 non-null   object\n",
      " 7   High Threshold in state                                             3142 non-null   object\n",
      " 8   High Threshold Type                                                 3142 non-null   object\n",
      " 9   % FI ≤ Low Threshold                                                3142 non-null   object\n",
      " 10  % FI Btwn Thresholds                                                2244 non-null   object\n",
      " 11  % FI > High Threshold                                               3142 non-null   object\n",
      " 12  2018 Child food insecurity rate                                     3142 non-null   object\n",
      " 13  # of Food Insecure Children in 2018                                 3142 non-null   object\n",
      " 14  % food insecure children in HH w/ HH incomes below 185 FPL in 2018  3142 non-null   object\n",
      " 15  % food insecure children in HH w/ HH incomes above 185 FPL in 2018  3142 non-null   object\n",
      " 16  2018 Cost Per Meal                                                  3142 non-null   object\n",
      " 17  2018 Weighted Annual Food Budget Shortfall                          3142 non-null   object\n",
      " 18  Year                                                                3142 non-null   int64 \n",
      "dtypes: int64(2), object(17)\n",
      "memory usage: 466.5+ KB\n"
     ]
    }
   ],
   "source": []
  },
  {
   "cell_type": "code",
   "execution_count": null,
   "id": "sacred-system",
   "metadata": {},
   "outputs": [],
   "source": []
  }
 ],
 "metadata": {
  "kernelspec": {
   "display_name": "Python 3",
   "language": "python",
   "name": "python3"
  },
  "language_info": {
   "codemirror_mode": {
    "name": "ipython",
    "version": 3
   },
   "file_extension": ".py",
   "mimetype": "text/x-python",
   "name": "python",
   "nbconvert_exporter": "python",
   "pygments_lexer": "ipython3",
   "version": "3.7.9"
  }
 },
 "nbformat": 4,
 "nbformat_minor": 5
}
