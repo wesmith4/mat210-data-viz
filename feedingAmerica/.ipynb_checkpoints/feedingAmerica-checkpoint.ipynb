{
 "cells": [
  {
   "cell_type": "code",
   "execution_count": 1,
   "id": "undefined-ordinary",
   "metadata": {},
   "outputs": [],
   "source": [
    "import pandas as pd\n",
    "import numpy as np\n",
    "from matplotlib import pyplot as plt"
   ]
  },
  {
   "cell_type": "markdown",
   "id": "twenty-colombia",
   "metadata": {},
   "source": [
    "# Import and Clean data\n",
    "The data from [Feeding America](https://www.feedingamerica.org/) is living in CSV files in the `/data` directory. The code block below imports that data, cleans it for our use, and combines it into the `allData.csv` file."
   ]
  },
  {
   "cell_type": "code",
   "execution_count": 55,
   "id": "straight-accused",
   "metadata": {},
   "outputs": [],
   "source": [
    "# Import data from CSV files, add year as column\n",
    "\n",
    "importDirect = True\n",
    "if 'google.colab' in str(get_ipython()):\n",
    "    importDirect = False\n",
    "\n",
    "if importDirect:\n",
    "    data_frames = {}\n",
    "    for year in range(2010, 2018):\n",
    "        data_frames[year] = pd.read_csv('data/{}Data.csv'.format(year))\n",
    "        data_frames[year]['Year'] = year\n",
    "\n",
    "    data_frames[2018] = pd.read_csv('data/2018Data.csv',header=1)\n",
    "    data_frames[2018]['Year'] = 2018\n",
    "\n",
    "\n",
    "    # Create list of preferred column names\n",
    "    col_names = ['FIPS', 'State', 'Food Insecurity Rate', '# Food Insecure Persons', 'Low Threshold in state', 'Low Threshold Type', 'High Threshold in state', 'High Threshold Type', '% FI <= Low Threshold', '% FI Btwn Thresholds', '$ FI > High Threshold', 'Child food insecurity rate', '# Food Insecure Children', '% food insecure children in HH w/ HH incomes below 185 FPL', '% food insecure children in HH w/ HH incomes above 185 FPL', 'Cost Per Meal', 'Weighted Annual Food Budget Shortfall', 'Year', 'County']\n",
    "\n",
    "    # Clean data\n",
    "    for key in data_frames:\n",
    "        df = data_frames[key]\n",
    "        df[['County', 'Long State']] = df['County, State'].str.split(',',expand=True)\n",
    "        df = df.drop(['County, State', 'Long State'],axis=1)\n",
    "        df.columns = col_names # rename columns\n",
    "        data_frames[key] = df\n",
    "\n",
    "    # Concatenate all datarames into one\n",
    "    frames = [data_frames[key] for key in data_frames]\n",
    "\n",
    "    df = pd.concat(frames)\n",
    "    df.to_csv('allData.csv') # export into CSV file\n",
    "    projections2020 = pd.read_csv('data/2020Projections.csv')\n",
    "else:\n",
    "    url = 'https://raw.githubusercontent.com/wesmith4/mat210-data-viz/master/feedingAmerica/allData.csv'\n",
    "    df = pd.read_csv(url, index_col = 0)\n",
    "    projections2020 = pd.read_csv('https://raw.githubusercontent.com/wesmith4/mat210-data-viz/master/feedingAmerica/data/2020Projections.csv')"
   ]
  },
  {
   "cell_type": "code",
   "execution_count": 56,
   "id": "polyphonic-feeling",
   "metadata": {},
   "outputs": [],
   "source": [
    "forReplacement = ['Food Insecurity Rate', 'Child food insecurity rate', 'Low Threshold in state', 'High Threshold in state', '% food insecure children in HH w/ HH incomes below 185 FPL', '% food insecure children in HH w/ HH incomes above 185 FPL']\n",
    "for field in forReplacement:\n",
    "    df[field] = df[field].str.replace('%', '').replace('-*', 'NaN')\n",
    "\n",
    "df = df.astype({'Food Insecurity Rate': float, 'Child food insecurity rate': float})"
   ]
  },
  {
   "cell_type": "code",
   "execution_count": 57,
   "id": "metallic-narrative",
   "metadata": {},
   "outputs": [
    {
     "data": {
      "image/png": "[encoded data removed]",
      "text/plain": [
       "<Figure size 432x288 with 1 Axes>"
      ]
     },
     "metadata": {
      "needs_background": "light"
     },
     "output_type": "display_data"
    }
   ],
   "source": [
    "fig, ax = plt.subplots()\n",
    "ax.scatter(df.Year,df['Child food insecurity rate'])\n",
    "plt.show()"
   ]
  },
  {
   "cell_type": "code",
   "execution_count": 53,
   "id": "attended-picnic",
   "metadata": {},
   "outputs": [
    {
     "data": {
      "text/plain": [
       "Year  State  County                    \n",
       "2010  AK     Aleutians East Borough        21.4\n",
       "             Aleutians West Census Area    15.3\n",
       "             Anchorage Municipality        17.0\n",
       "             Bethel Census Area            28.2\n",
       "             Bristol Bay Borough           13.0\n",
       "                                           ... \n",
       "2018  WY     Sweetwater County             15.4\n",
       "             Teton County                   8.4\n",
       "             Uinta County                  18.7\n",
       "             Washakie County               18.4\n",
       "             Weston County                 22.3\n",
       "Name: Child food insecurity rate, Length: 28282, dtype: float64"
      ]
     },
     "execution_count": 53,
     "metadata": {},
     "output_type": "execute_result"
    }
   ],
   "source": [
    "df.groupby(['Year', 'State', 'County'])['Child food insecurity rate'].mean()"
   ]
  },
  {
   "cell_type": "code",
   "execution_count": 54,
   "id": "spiritual-daniel",
   "metadata": {},
   "outputs": [
    {
     "data": {
      "text/plain": [
       "Year\n",
       "2010    23.7\n",
       "2011    24.4\n",
       "2012    24.7\n",
       "2013    24.6\n",
       "2014    23.6\n",
       "2015    22.1\n",
       "2016    20.3\n",
       "2017    20.1\n",
       "2018    18.7\n",
       "Name: Child food insecurity rate, dtype: float64"
      ]
     },
     "execution_count": 54,
     "metadata": {},
     "output_type": "execute_result"
    }
   ],
   "source": [
    "df[df['County'] == \"New Hanover County\"].groupby('Year')['Child food insecurity rate'].mean()"
   ]
  },
  {
   "cell_type": "code",
   "execution_count": null,
   "id": "literary-korea",
   "metadata": {},
   "outputs": [],
   "source": []
  },
  {
   "cell_type": "code",
   "execution_count": 58,
   "id": "occasional-finance",
   "metadata": {},
   "outputs": [
    {
     "data": {
      "text/plain": [
       "<ipykernel.zmqshell.ZMQInteractiveShell at 0x14ba0512b910>"
      ]
     },
     "execution_count": 58,
     "metadata": {},
     "output_type": "execute_result"
    }
   ],
   "source": [
    "get_ipython()"
   ]
  },
  {
   "cell_type": "code",
   "execution_count": null,
   "id": "cordless-joint",
   "metadata": {},
   "outputs": [],
   "source": []
  }
 ],
 "metadata": {
  "kernelspec": {
   "display_name": "Python 3",
   "language": "python",
   "name": "python3"
  },
  "language_info": {
   "codemirror_mode": {
    "name": "ipython",
    "version": 3
   },
   "file_extension": ".py",
   "mimetype": "text/x-python",
   "name": "python",
   "nbconvert_exporter": "python",
   "pygments_lexer": "ipython3",
   "version": "3.7.9"
  }
 },
 "nbformat": 4,
 "nbformat_minor": 5
}
