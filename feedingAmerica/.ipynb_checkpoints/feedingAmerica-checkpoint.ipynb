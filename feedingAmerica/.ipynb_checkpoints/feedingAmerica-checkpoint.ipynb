{
 "cells": [
  {
   "cell_type": "code",
   "execution_count": 62,
   "id": "banned-shell",
   "metadata": {},
   "outputs": [],
   "source": [
    "import pandas as pd\n",
    "import numpy as np"
   ]
  },
  {
   "cell_type": "markdown",
   "id": "associate-bernard",
   "metadata": {},
   "source": [
    "# Import and Clean data\n",
    "The data from [Feeding America](https://www.feedingamerica.org/) is living in CSV files in the `/data` directory. The code block below imports that data, cleans it for our use, and combines it into the `allData.csv` file."
   ]
  },
  {
   "cell_type": "code",
   "execution_count": 105,
   "id": "certified-northern",
   "metadata": {},
   "outputs": [],
   "source": [
    "# Import data from CSV files, add year as column\n",
    "data_frames = {}\n",
    "for year in range(2010, 2018):\n",
    "    data_frames[year] = pd.read_csv('data/{}Data.csv'.format(year))\n",
    "    data_frames[year]['Year'] = year\n",
    "    \n",
    "data_frames[2018] = pd.read_csv('data/2018Data.csv',header=1)\n",
    "data_frames[2018]['Year'] = 2018\n",
    "\n",
    "data_frames[2020] = pd.read_csv('data/2020Projections.csv')\n",
    "data_frames[2020]['Year'] = 2020\n",
    "\n",
    "# Create list of preferred column names\n",
    "col_names = ['FIPS', 'State', 'Food Insecurity Rate', '# Food Insecure Persons', 'Low Threshold in state', 'Low Threshold Type', 'High Threshold in state', 'High Threshold Type', '% FI <= Low Threshold', '% FI Btwn Thresholds', '$ FI > High Threshold', 'Child food insecurity rate', '# Food Insecure Children', '% food insecure children in HH w/ HH incomes below 185 FPL', '% food insecure children in HH w/ HH incomes above 185 FPL', 'Cost Per Meal', 'Weighted Annual Food Budget Shortfall', 'Year', 'County']\n",
    "\n",
    "# Clean data\n",
    "for key in data_frames:\n",
    "    df = data_frames[key]\n",
    "    df[['County', 'Long State']] = df['County, State'].str.split(',',expand=True)\n",
    "    df = df.drop(['County, State', 'Long State'],axis=1)\n",
    "    df.columns = col_names # rename columns\n",
    "    data_frames[key] = df\n",
    "\n",
    "# Concatenate all datarames into one\n",
    "frames = [data_frames[key] for key in data_frames]\n",
    "df = pd.concat(frames)\n",
    "df.to_csv('allData.csv') # export into CSV file"
   ]
  },
  {
   "cell_type": "code",
   "execution_count": null,
   "id": "remarkable-principle",
   "metadata": {},
   "outputs": [],
   "source": []
  }
 ],
 "metadata": {
  "kernelspec": {
   "display_name": "Python 3",
   "language": "python",
   "name": "python3"
  },
  "language_info": {
   "codemirror_mode": {
    "name": "ipython",
    "version": 3
   },
   "file_extension": ".py",
   "mimetype": "text/x-python",
   "name": "python",
   "nbconvert_exporter": "python",
   "pygments_lexer": "ipython3",
   "version": "3.7.9"
  }
 },
 "nbformat": 4,
 "nbformat_minor": 5
}
